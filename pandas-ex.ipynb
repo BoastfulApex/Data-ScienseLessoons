{
 "cells": [
  {
   "cell_type": "code",
   "execution_count": 13,
   "metadata": {},
   "outputs": [],
   "source": [
    "import numpy as np\n",
    "import pandas as pd"
   ]
  },
  {
   "cell_type": "code",
   "execution_count": 14,
   "metadata": {},
   "outputs": [
    {
     "data": {
      "text/html": [
       "<div>\n",
       "<style scoped>\n",
       "    .dataframe tbody tr th:only-of-type {\n",
       "        vertical-align: middle;\n",
       "    }\n",
       "\n",
       "    .dataframe tbody tr th {\n",
       "        vertical-align: top;\n",
       "    }\n",
       "\n",
       "    .dataframe thead th {\n",
       "        text-align: right;\n",
       "    }\n",
       "</style>\n",
       "<table border=\"1\" class=\"dataframe\">\n",
       "  <thead>\n",
       "    <tr style=\"text-align: right;\">\n",
       "      <th></th>\n",
       "      <th>Ism</th>\n",
       "      <th>Yosh</th>\n",
       "      <th>Maosh</th>\n",
       "      <th>Departament</th>\n",
       "    </tr>\n",
       "  </thead>\n",
       "  <tbody>\n",
       "    <tr>\n",
       "      <th>0</th>\n",
       "      <td>Ali</td>\n",
       "      <td>30</td>\n",
       "      <td>5000</td>\n",
       "      <td>IT</td>\n",
       "    </tr>\n",
       "    <tr>\n",
       "      <th>1</th>\n",
       "      <td>Laylo</td>\n",
       "      <td>28</td>\n",
       "      <td>6000</td>\n",
       "      <td>Marketing</td>\n",
       "    </tr>\n",
       "    <tr>\n",
       "      <th>2</th>\n",
       "      <td>Bobur</td>\n",
       "      <td>35</td>\n",
       "      <td>4000</td>\n",
       "      <td>HR</td>\n",
       "    </tr>\n",
       "    <tr>\n",
       "      <th>3</th>\n",
       "      <td>Zebo</td>\n",
       "      <td>40</td>\n",
       "      <td>7000</td>\n",
       "      <td>IT</td>\n",
       "    </tr>\n",
       "    <tr>\n",
       "      <th>4</th>\n",
       "      <td>Aziza</td>\n",
       "      <td>25</td>\n",
       "      <td>5200</td>\n",
       "      <td>Marketing</td>\n",
       "    </tr>\n",
       "  </tbody>\n",
       "</table>\n",
       "</div>"
      ],
      "text/plain": [
       "     Ism  Yosh  Maosh Departament\n",
       "0    Ali    30   5000          IT\n",
       "1  Laylo    28   6000   Marketing\n",
       "2  Bobur    35   4000          HR\n",
       "3   Zebo    40   7000          IT\n",
       "4  Aziza    25   5200   Marketing"
      ]
     },
     "execution_count": 14,
     "metadata": {},
     "output_type": "execute_result"
    }
   ],
   "source": [
    "\n",
    "d = { 'Ism': ['Ali', 'Laylo', \"Bobur\", 'Zebo', 'Aziza'],\n",
    "     'Yosh': [30, 28, 35, 40, 25],\n",
    "     'Maosh': [5000, 6000, 4000, 7000, 5200],\n",
    "     'Departament': ['IT', 'Marketing', 'HR', 'IT', 'Marketing']\n",
    "}\n",
    "\n",
    "df = pd.DataFrame(d)\n",
    "df"
   ]
  },
  {
   "cell_type": "code",
   "execution_count": 15,
   "metadata": {},
   "outputs": [
    {
     "data": {
      "text/html": [
       "<div>\n",
       "<style scoped>\n",
       "    .dataframe tbody tr th:only-of-type {\n",
       "        vertical-align: middle;\n",
       "    }\n",
       "\n",
       "    .dataframe tbody tr th {\n",
       "        vertical-align: top;\n",
       "    }\n",
       "\n",
       "    .dataframe thead th {\n",
       "        text-align: right;\n",
       "    }\n",
       "</style>\n",
       "<table border=\"1\" class=\"dataframe\">\n",
       "  <thead>\n",
       "    <tr style=\"text-align: right;\">\n",
       "      <th></th>\n",
       "      <th>Ism</th>\n",
       "      <th>Yosh</th>\n",
       "      <th>Maosh</th>\n",
       "      <th>Departament</th>\n",
       "    </tr>\n",
       "  </thead>\n",
       "  <tbody>\n",
       "    <tr>\n",
       "      <th>4</th>\n",
       "      <td>Aziza</td>\n",
       "      <td>25</td>\n",
       "      <td>5200</td>\n",
       "      <td>Marketing</td>\n",
       "    </tr>\n",
       "    <tr>\n",
       "      <th>1</th>\n",
       "      <td>Laylo</td>\n",
       "      <td>28</td>\n",
       "      <td>6000</td>\n",
       "      <td>Marketing</td>\n",
       "    </tr>\n",
       "    <tr>\n",
       "      <th>0</th>\n",
       "      <td>Ali</td>\n",
       "      <td>30</td>\n",
       "      <td>5000</td>\n",
       "      <td>IT</td>\n",
       "    </tr>\n",
       "    <tr>\n",
       "      <th>2</th>\n",
       "      <td>Bobur</td>\n",
       "      <td>35</td>\n",
       "      <td>4000</td>\n",
       "      <td>HR</td>\n",
       "    </tr>\n",
       "    <tr>\n",
       "      <th>3</th>\n",
       "      <td>Zebo</td>\n",
       "      <td>40</td>\n",
       "      <td>7000</td>\n",
       "      <td>IT</td>\n",
       "    </tr>\n",
       "  </tbody>\n",
       "</table>\n",
       "</div>"
      ],
      "text/plain": [
       "     Ism  Yosh  Maosh Departament\n",
       "4  Aziza    25   5200   Marketing\n",
       "1  Laylo    28   6000   Marketing\n",
       "0    Ali    30   5000          IT\n",
       "2  Bobur    35   4000          HR\n",
       "3   Zebo    40   7000          IT"
      ]
     },
     "execution_count": 15,
     "metadata": {},
     "output_type": "execute_result"
    }
   ],
   "source": [
    "df.sort_values(by='Yosh')"
   ]
  },
  {
   "cell_type": "code",
   "execution_count": 16,
   "metadata": {},
   "outputs": [
    {
     "data": {
      "text/html": [
       "<div>\n",
       "<style scoped>\n",
       "    .dataframe tbody tr th:only-of-type {\n",
       "        vertical-align: middle;\n",
       "    }\n",
       "\n",
       "    .dataframe tbody tr th {\n",
       "        vertical-align: top;\n",
       "    }\n",
       "\n",
       "    .dataframe thead th {\n",
       "        text-align: right;\n",
       "    }\n",
       "</style>\n",
       "<table border=\"1\" class=\"dataframe\">\n",
       "  <thead>\n",
       "    <tr style=\"text-align: right;\">\n",
       "      <th></th>\n",
       "      <th>Ism</th>\n",
       "      <th>Yosh</th>\n",
       "      <th>Maosh</th>\n",
       "      <th>Departament</th>\n",
       "    </tr>\n",
       "  </thead>\n",
       "  <tbody>\n",
       "    <tr>\n",
       "      <th>1</th>\n",
       "      <td>Laylo</td>\n",
       "      <td>28</td>\n",
       "      <td>6000</td>\n",
       "      <td>Marketing</td>\n",
       "    </tr>\n",
       "    <tr>\n",
       "      <th>3</th>\n",
       "      <td>Zebo</td>\n",
       "      <td>40</td>\n",
       "      <td>7000</td>\n",
       "      <td>IT</td>\n",
       "    </tr>\n",
       "    <tr>\n",
       "      <th>4</th>\n",
       "      <td>Aziza</td>\n",
       "      <td>25</td>\n",
       "      <td>5200</td>\n",
       "      <td>Marketing</td>\n",
       "    </tr>\n",
       "  </tbody>\n",
       "</table>\n",
       "</div>"
      ],
      "text/plain": [
       "     Ism  Yosh  Maosh Departament\n",
       "1  Laylo    28   6000   Marketing\n",
       "3   Zebo    40   7000          IT\n",
       "4  Aziza    25   5200   Marketing"
      ]
     },
     "execution_count": 16,
     "metadata": {},
     "output_type": "execute_result"
    }
   ],
   "source": [
    "maosh_5000 = df[df['Maosh']>5000]\n",
    "maosh_5000"
   ]
  },
  {
   "cell_type": "code",
   "execution_count": 20,
   "metadata": {},
   "outputs": [
    {
     "name": "stdout",
     "output_type": "stream",
     "text": [
      "     Ism  Yosh  Maosh Departament\n",
      "0    Ali    30   5000          IT\n",
      "1  Laylo    28   6000   Marketing\n",
      "2  Bobur    35   4000          HR\n",
      "3   Zebo    40   7000          IT\n",
      "4  Aziza    25   5200   Marketing\n",
      "Departament\n",
      "HR           4000.0\n",
      "IT           6000.0\n",
      "Marketing    5600.0\n",
      "Name: Maosh, dtype: float64\n"
     ]
    }
   ],
   "source": [
    "print(df)\n",
    "df_g = df.groupby('Departament')['Maosh'].mean()\n",
    "\n",
    "print(df_g)"
   ]
  },
  {
   "cell_type": "code",
   "execution_count": null,
   "metadata": {},
   "outputs": [],
   "source": []
  }
 ],
 "metadata": {
  "language_info": {
   "name": "python"
  }
 },
 "nbformat": 4,
 "nbformat_minor": 2
}
