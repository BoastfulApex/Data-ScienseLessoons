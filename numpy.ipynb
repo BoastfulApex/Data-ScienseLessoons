{
 "cells": [
  {
   "cell_type": "code",
   "execution_count": 2,
   "metadata": {},
   "outputs": [],
   "source": [
    "import numpy as np\n",
    "\n"
   ]
  },
  {
   "cell_type": "code",
   "execution_count": 3,
   "metadata": {},
   "outputs": [
    {
     "data": {
      "text/plain": [
       "array([[[0., 0., 0.],\n",
       "        [0., 0., 0.],\n",
       "        [0., 0., 0.]],\n",
       "\n",
       "       [[0., 0., 0.],\n",
       "        [0., 0., 0.],\n",
       "        [0., 0., 0.]],\n",
       "\n",
       "       [[0., 0., 0.],\n",
       "        [0., 0., 0.],\n",
       "        [0., 0., 0.]]])"
      ]
     },
     "execution_count": 3,
     "metadata": {},
     "output_type": "execute_result"
    }
   ],
   "source": [
    "np.zeros([3,3,3])"
   ]
  },
  {
   "cell_type": "code",
   "execution_count": 4,
   "metadata": {},
   "outputs": [
    {
     "data": {
      "text/plain": [
       "array([ 1.1       ,  2.08888889,  3.07777778,  4.06666667,  5.05555556,\n",
       "        6.04444444,  7.03333333,  8.02222222,  9.01111111, 10.        ])"
      ]
     },
     "execution_count": 4,
     "metadata": {},
     "output_type": "execute_result"
    }
   ],
   "source": [
    "np.linspace(1.1,10,10)"
   ]
  },
  {
   "cell_type": "code",
   "execution_count": 5,
   "metadata": {},
   "outputs": [
    {
     "data": {
      "text/plain": [
       "array([ 3,  6,  9, 12, 15, 18, 21, 24, 27, 30])"
      ]
     },
     "execution_count": 5,
     "metadata": {},
     "output_type": "execute_result"
    }
   ],
   "source": [
    "list1 = np.arange(1,11)\n",
    "list2 = list1 * 3\n",
    "list2"
   ]
  },
  {
   "cell_type": "code",
   "execution_count": 29,
   "metadata": {},
   "outputs": [
    {
     "name": "stdout",
     "output_type": "stream",
     "text": [
      "[[18  3 70  0 12]\n",
      " [81 54 50 36 51]]\n"
     ]
    },
    {
     "data": {
      "text/plain": [
       "array([[ 0, -1,  0,  0,  0],\n",
       "       [-1,  0,  0,  0, -1]], dtype=int32)"
      ]
     },
     "execution_count": 29,
     "metadata": {},
     "output_type": "execute_result"
    }
   ],
   "source": [
    "mat = np.random.randint(0, 100, size=(2,5))\n",
    "print(mat)\n",
    "result = np.where(mat%2, mat, 0)\n",
    "result = np.where(result==0, result, -1)\n",
    "result\n",
    "\n"
   ]
  },
  {
   "cell_type": "code",
   "execution_count": 30,
   "metadata": {},
   "outputs": [
    {
     "name": "stdout",
     "output_type": "stream",
     "text": [
      "Dastlabki matritsa:\n",
      "[[44 47  0  3]\n",
      " [ 3 39  9 19]\n",
      " [21 50 36 23]\n",
      " [ 6 24 24 12]]\n",
      "\n",
      "Qatorlarning yig'indilari:\n",
      "[ 94  70 130  66]\n",
      "\n",
      "Yakuniy matritsa:\n",
      "[[44 47  0  3]\n",
      " [ 3 39  9 19]\n",
      " [ 0  0  0  0]\n",
      " [ 6 24 24 12]]\n"
     ]
    }
   ],
   "source": [
    "import numpy as np\n",
    "\n",
    "# 4x4 o'lchamdagi tasodifiy butun sonlardan iborat matritsa yaratish\n",
    "np.random.seed(0)  # Tasodifiy natijalarni takrorlash uchun\n",
    "arr = np.random.randint(0, 51, size=(4, 4))\n",
    "print(\"Dastlabki matritsa:\")\n",
    "print(arr)\n",
    "\n",
    "# Har bir qatorning yig'indisini hisoblash\n",
    "row_sums = np.sum(arr, axis=1)\n",
    "print(\"\\nQatorlarning yig'indilari:\")\n",
    "print(row_sums)\n",
    "\n",
    "# Yig'indi 100 dan katta bo'lgan qatorlarni 0 ga to'ldirish\n",
    "arr[row_sums > 100] = 0\n",
    "\n",
    "print(\"\\nYakuniy matritsa:\")\n",
    "print(arr)"
   ]
  },
  {
   "cell_type": "code",
   "execution_count": 48,
   "metadata": {},
   "outputs": [
    {
     "name": "stdout",
     "output_type": "stream",
     "text": [
      "1- Matritsa: \n",
      "\n",
      "[[20  7  3 12  3]\n",
      " [ 6 20  7 19  0]\n",
      " [ 5 11  9 19  7]\n",
      " [ 5  8 11 14  0]\n",
      " [ 8 19  6 10 19]]\n",
      "Qatorlar yig'indisi: \n",
      "\n",
      "[ 8.8 13.   7.2 14.8  5.8]\n",
      "Natija: \n",
      "\n",
      "[[0 1 0 1 0]\n",
      " [0 1 0 1 0]\n",
      " [0 1 0 1 0]\n",
      " [0 1 0 1 0]\n",
      " [0 1 0 1 0]]\n"
     ]
    }
   ],
   "source": [
    "arr = np.random.randint(0, 21, size=(5, 5))\n",
    "print(\"1- Matritsa: \\n\")\n",
    "print(arr)\n",
    "\n",
    "row_sum = np.mean(arr, axis=0)\n",
    "print(\"Qatorlar yig'indisi: \\n\")\n",
    "print(row_sum)\n",
    "\n",
    "arr[:, row_sum>10] = 1\n",
    "arr[:, row_sum<10] = 0\n",
    "\n",
    "print(\"Natija: \\n\")\n",
    "print(arr)"
   ]
  },
  {
   "cell_type": "code",
   "execution_count": 55,
   "metadata": {},
   "outputs": [
    {
     "name": "stdout",
     "output_type": "stream",
     "text": [
      "1- Matritsa: \n",
      "\n",
      "[[24  1  0  5 24  2]\n",
      " [15  3 28 14  5 11]\n",
      " [19 24  6 20  6 28]]\n",
      "Qatorlar yig'indisi: \n",
      "\n",
      "[19.33333333  9.33333333 11.33333333 13.         11.66666667 13.66666667]\n",
      "Natija: \n",
      "\n",
      "[[ 1  6  5 10 29  7]\n",
      " [ 1  8 33 19 10 16]\n",
      " [ 1 29 11 25 11 33]]\n"
     ]
    }
   ],
   "source": [
    "arr = np.random.randint(0, 31, size=(3, 6))\n",
    "print(\"1- Matritsa: \\n\")\n",
    "print(arr)\n",
    "\n",
    "cool_mean = np.mean(arr, axis=0)\n",
    "print(\"Qatorlar yig'indisi: \\n\")\n",
    "print(cool_mean)\n",
    "\n",
    "arr[:, cool_mean>15] = 1\n",
    "arr[:, cool_mean<15] +=  5\n",
    "\n",
    "print(\"Natija: \\n\")\n",
    "print(arr)"
   ]
  },
  {
   "cell_type": "code",
   "execution_count": 61,
   "metadata": {},
   "outputs": [
    {
     "name": "stdout",
     "output_type": "stream",
     "text": [
      "[13 91 75 55 79 63 73 72 46  6]\n",
      "[3.60555128 9.53939201 8.66025404 7.41619849 8.88819442 7.93725393\n",
      " 8.54400375 8.48528137 6.78232998 2.44948974]\n",
      "[3.60555128 0.         0.         0.         0.         0.\n",
      " 0.         0.         0.         2.44948974]\n"
     ]
    }
   ],
   "source": [
    "arr = np.random.randint(1, 100, size=(10))\n",
    "print(arr)\n",
    "arr = np.sqrt(arr)\n",
    "print(arr)\n",
    "result = np.where(arr>5, arr, 1)\n",
    "result = np.where(arr<5, arr, 0)\n",
    "print(result)"
   ]
  },
  {
   "cell_type": "code",
   "execution_count": null,
   "metadata": {},
   "outputs": [],
   "source": []
  }
 ],
 "metadata": {
  "kernelspec": {
   "display_name": "Python 3",
   "language": "python",
   "name": "python3"
  },
  "language_info": {
   "codemirror_mode": {
    "name": "ipython",
    "version": 3
   },
   "file_extension": ".py",
   "mimetype": "text/x-python",
   "name": "python",
   "nbconvert_exporter": "python",
   "pygments_lexer": "ipython3",
   "version": "3.12.3"
  }
 },
 "nbformat": 4,
 "nbformat_minor": 2
}
