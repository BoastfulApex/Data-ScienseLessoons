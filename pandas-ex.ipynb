{
 "cells": [
  {
   "cell_type": "code",
   "execution_count": 1,
   "metadata": {},
   "outputs": [],
   "source": [
    "import numpy as np\n",
    "import pandas as pd"
   ]
  },
  {
   "cell_type": "code",
   "execution_count": 2,
   "metadata": {},
   "outputs": [
    {
     "data": {
      "text/html": [
       "<div>\n",
       "<style scoped>\n",
       "    .dataframe tbody tr th:only-of-type {\n",
       "        vertical-align: middle;\n",
       "    }\n",
       "\n",
       "    .dataframe tbody tr th {\n",
       "        vertical-align: top;\n",
       "    }\n",
       "\n",
       "    .dataframe thead th {\n",
       "        text-align: right;\n",
       "    }\n",
       "</style>\n",
       "<table border=\"1\" class=\"dataframe\">\n",
       "  <thead>\n",
       "    <tr style=\"text-align: right;\">\n",
       "      <th></th>\n",
       "      <th>Ism</th>\n",
       "      <th>Yosh</th>\n",
       "      <th>Maosh</th>\n",
       "      <th>Departament</th>\n",
       "    </tr>\n",
       "  </thead>\n",
       "  <tbody>\n",
       "    <tr>\n",
       "      <th>0</th>\n",
       "      <td>Ali</td>\n",
       "      <td>30</td>\n",
       "      <td>5000</td>\n",
       "      <td>IT</td>\n",
       "    </tr>\n",
       "    <tr>\n",
       "      <th>1</th>\n",
       "      <td>Laylo</td>\n",
       "      <td>28</td>\n",
       "      <td>6000</td>\n",
       "      <td>Marketing</td>\n",
       "    </tr>\n",
       "    <tr>\n",
       "      <th>2</th>\n",
       "      <td>Bobur</td>\n",
       "      <td>35</td>\n",
       "      <td>4000</td>\n",
       "      <td>HR</td>\n",
       "    </tr>\n",
       "    <tr>\n",
       "      <th>3</th>\n",
       "      <td>Zebo</td>\n",
       "      <td>40</td>\n",
       "      <td>7000</td>\n",
       "      <td>IT</td>\n",
       "    </tr>\n",
       "    <tr>\n",
       "      <th>4</th>\n",
       "      <td>Aziza</td>\n",
       "      <td>25</td>\n",
       "      <td>5200</td>\n",
       "      <td>Marketing</td>\n",
       "    </tr>\n",
       "  </tbody>\n",
       "</table>\n",
       "</div>"
      ],
      "text/plain": [
       "     Ism  Yosh  Maosh Departament\n",
       "0    Ali    30   5000          IT\n",
       "1  Laylo    28   6000   Marketing\n",
       "2  Bobur    35   4000          HR\n",
       "3   Zebo    40   7000          IT\n",
       "4  Aziza    25   5200   Marketing"
      ]
     },
     "execution_count": 2,
     "metadata": {},
     "output_type": "execute_result"
    }
   ],
   "source": [
    "\n",
    "d = { 'Ism': ['Ali', 'Laylo', \"Bobur\", 'Zebo', 'Aziza'],\n",
    "     'Yosh': [30, 28, 35, 40, 25],\n",
    "     'Maosh': [5000, 6000, 4000, 7000, 5200],\n",
    "     'Departament': ['IT', 'Marketing', 'HR', 'IT', 'Marketing']\n",
    "}\n",
    "\n",
    "df = pd.DataFrame(d)\n",
    "df"
   ]
  },
  {
   "cell_type": "code",
   "execution_count": 3,
   "metadata": {},
   "outputs": [
    {
     "data": {
      "text/html": [
       "<div>\n",
       "<style scoped>\n",
       "    .dataframe tbody tr th:only-of-type {\n",
       "        vertical-align: middle;\n",
       "    }\n",
       "\n",
       "    .dataframe tbody tr th {\n",
       "        vertical-align: top;\n",
       "    }\n",
       "\n",
       "    .dataframe thead th {\n",
       "        text-align: right;\n",
       "    }\n",
       "</style>\n",
       "<table border=\"1\" class=\"dataframe\">\n",
       "  <thead>\n",
       "    <tr style=\"text-align: right;\">\n",
       "      <th></th>\n",
       "      <th>Ism</th>\n",
       "      <th>Yosh</th>\n",
       "      <th>Maosh</th>\n",
       "      <th>Departament</th>\n",
       "    </tr>\n",
       "  </thead>\n",
       "  <tbody>\n",
       "    <tr>\n",
       "      <th>4</th>\n",
       "      <td>Aziza</td>\n",
       "      <td>25</td>\n",
       "      <td>5200</td>\n",
       "      <td>Marketing</td>\n",
       "    </tr>\n",
       "    <tr>\n",
       "      <th>1</th>\n",
       "      <td>Laylo</td>\n",
       "      <td>28</td>\n",
       "      <td>6000</td>\n",
       "      <td>Marketing</td>\n",
       "    </tr>\n",
       "    <tr>\n",
       "      <th>0</th>\n",
       "      <td>Ali</td>\n",
       "      <td>30</td>\n",
       "      <td>5000</td>\n",
       "      <td>IT</td>\n",
       "    </tr>\n",
       "    <tr>\n",
       "      <th>2</th>\n",
       "      <td>Bobur</td>\n",
       "      <td>35</td>\n",
       "      <td>4000</td>\n",
       "      <td>HR</td>\n",
       "    </tr>\n",
       "    <tr>\n",
       "      <th>3</th>\n",
       "      <td>Zebo</td>\n",
       "      <td>40</td>\n",
       "      <td>7000</td>\n",
       "      <td>IT</td>\n",
       "    </tr>\n",
       "  </tbody>\n",
       "</table>\n",
       "</div>"
      ],
      "text/plain": [
       "     Ism  Yosh  Maosh Departament\n",
       "4  Aziza    25   5200   Marketing\n",
       "1  Laylo    28   6000   Marketing\n",
       "0    Ali    30   5000          IT\n",
       "2  Bobur    35   4000          HR\n",
       "3   Zebo    40   7000          IT"
      ]
     },
     "execution_count": 3,
     "metadata": {},
     "output_type": "execute_result"
    }
   ],
   "source": [
    "df.sort_values(by='Yosh')"
   ]
  },
  {
   "cell_type": "code",
   "execution_count": 4,
   "metadata": {},
   "outputs": [
    {
     "data": {
      "text/html": [
       "<div>\n",
       "<style scoped>\n",
       "    .dataframe tbody tr th:only-of-type {\n",
       "        vertical-align: middle;\n",
       "    }\n",
       "\n",
       "    .dataframe tbody tr th {\n",
       "        vertical-align: top;\n",
       "    }\n",
       "\n",
       "    .dataframe thead th {\n",
       "        text-align: right;\n",
       "    }\n",
       "</style>\n",
       "<table border=\"1\" class=\"dataframe\">\n",
       "  <thead>\n",
       "    <tr style=\"text-align: right;\">\n",
       "      <th></th>\n",
       "      <th>Ism</th>\n",
       "      <th>Yosh</th>\n",
       "      <th>Maosh</th>\n",
       "      <th>Departament</th>\n",
       "    </tr>\n",
       "  </thead>\n",
       "  <tbody>\n",
       "    <tr>\n",
       "      <th>1</th>\n",
       "      <td>Laylo</td>\n",
       "      <td>28</td>\n",
       "      <td>6000</td>\n",
       "      <td>Marketing</td>\n",
       "    </tr>\n",
       "    <tr>\n",
       "      <th>3</th>\n",
       "      <td>Zebo</td>\n",
       "      <td>40</td>\n",
       "      <td>7000</td>\n",
       "      <td>IT</td>\n",
       "    </tr>\n",
       "    <tr>\n",
       "      <th>4</th>\n",
       "      <td>Aziza</td>\n",
       "      <td>25</td>\n",
       "      <td>5200</td>\n",
       "      <td>Marketing</td>\n",
       "    </tr>\n",
       "  </tbody>\n",
       "</table>\n",
       "</div>"
      ],
      "text/plain": [
       "     Ism  Yosh  Maosh Departament\n",
       "1  Laylo    28   6000   Marketing\n",
       "3   Zebo    40   7000          IT\n",
       "4  Aziza    25   5200   Marketing"
      ]
     },
     "execution_count": 4,
     "metadata": {},
     "output_type": "execute_result"
    }
   ],
   "source": [
    "maosh_5000 = df[df['Maosh']>5000]\n",
    "maosh_5000"
   ]
  },
  {
   "cell_type": "code",
   "execution_count": 5,
   "metadata": {},
   "outputs": [
    {
     "name": "stdout",
     "output_type": "stream",
     "text": [
      "     Ism  Yosh  Maosh Departament\n",
      "0    Ali    30   5000          IT\n",
      "1  Laylo    28   6000   Marketing\n",
      "2  Bobur    35   4000          HR\n",
      "3   Zebo    40   7000          IT\n",
      "4  Aziza    25   5200   Marketing\n",
      "Departament\n",
      "HR           4000.0\n",
      "IT           6000.0\n",
      "Marketing    5600.0\n",
      "Name: Maosh, dtype: float64\n"
     ]
    }
   ],
   "source": [
    "print(df)\n",
    "df_g = df.groupby('Departament')['Maosh'].mean()\n",
    "\n",
    "print(df_g)"
   ]
  },
  {
   "cell_type": "code",
   "execution_count": 6,
   "metadata": {},
   "outputs": [
    {
     "data": {
      "text/plain": [
       "Ali      2\n",
       "Vali     4\n",
       "Avaz     5\n",
       "Olim     5\n",
       "Aziz     4\n",
       "Rano     5\n",
       "Botir    3\n",
       "Kamol    5\n",
       "dtype: int64"
      ]
     },
     "execution_count": 6,
     "metadata": {},
     "output_type": "execute_result"
    }
   ],
   "source": [
    "baholar = pd.Series(\n",
    "    [2, 4, 5, 5, 4, 5, 3, 5],\n",
    "    index=['Ali', 'Vali', 'Avaz', 'Olim', 'Aziz', 'Rano', 'Botir', 'Kamol']\n",
    ")\n",
    "baholar"
   ]
  },
  {
   "cell_type": "code",
   "execution_count": 7,
   "metadata": {},
   "outputs": [
    {
     "name": "stdout",
     "output_type": "stream",
     "text": [
      "4.125\n"
     ]
    }
   ],
   "source": [
    "mean_baholar = baholar.mean()\n",
    "print(mean_baholar)"
   ]
  },
  {
   "cell_type": "code",
   "execution_count": 8,
   "metadata": {},
   "outputs": [
    {
     "name": "stdout",
     "output_type": "stream",
     "text": [
      "Vali     4\n",
      "Avaz     5\n",
      "Olim     5\n",
      "Aziz     4\n",
      "Rano     5\n",
      "Kamol    5\n",
      "dtype: int64\n"
     ]
    }
   ],
   "source": [
    "alo_baholar = baholar[baholar>3]\n",
    "print(alo_baholar)"
   ]
  },
  {
   "cell_type": "code",
   "execution_count": 9,
   "metadata": {},
   "outputs": [
    {
     "name": "stdout",
     "output_type": "stream",
     "text": [
      "  Talaba  Matematika  Adabiyot  Fizika\n",
      "0    Ali          78        67      70\n",
      "1   Vali          85        45      90\n",
      "2   Aziz          90        78      75\n",
      "3  Hasan          65        83      90\n"
     ]
    }
   ],
   "source": [
    "data = {'Talaba': ['Ali', 'Vali', 'Aziz', 'Hasan'],\n",
    "        'Matematika': [78, 85, 90, 65],\n",
    "        'Adabiyot': [67, 45, 78, 83],\n",
    "        'Fizika': [70, 90, 75, 90]}\n",
    "\n",
    "df = pd.DataFrame(data)\n",
    "print(df)"
   ]
  },
  {
   "cell_type": "code",
   "execution_count": 10,
   "metadata": {},
   "outputs": [
    {
     "data": {
      "text/html": [
       "<div>\n",
       "<style scoped>\n",
       "    .dataframe tbody tr th:only-of-type {\n",
       "        vertical-align: middle;\n",
       "    }\n",
       "\n",
       "    .dataframe tbody tr th {\n",
       "        vertical-align: top;\n",
       "    }\n",
       "\n",
       "    .dataframe thead th {\n",
       "        text-align: right;\n",
       "    }\n",
       "</style>\n",
       "<table border=\"1\" class=\"dataframe\">\n",
       "  <thead>\n",
       "    <tr style=\"text-align: right;\">\n",
       "      <th></th>\n",
       "      <th>Talaba</th>\n",
       "      <th>Matematika</th>\n",
       "      <th>Adabiyot</th>\n",
       "      <th>Fizika</th>\n",
       "      <th>Umumiy o'rtacha</th>\n",
       "    </tr>\n",
       "  </thead>\n",
       "  <tbody>\n",
       "    <tr>\n",
       "      <th>0</th>\n",
       "      <td>Ali</td>\n",
       "      <td>78</td>\n",
       "      <td>67</td>\n",
       "      <td>70</td>\n",
       "      <td>71.666667</td>\n",
       "    </tr>\n",
       "    <tr>\n",
       "      <th>1</th>\n",
       "      <td>Vali</td>\n",
       "      <td>85</td>\n",
       "      <td>45</td>\n",
       "      <td>90</td>\n",
       "      <td>73.333333</td>\n",
       "    </tr>\n",
       "    <tr>\n",
       "      <th>2</th>\n",
       "      <td>Aziz</td>\n",
       "      <td>90</td>\n",
       "      <td>78</td>\n",
       "      <td>75</td>\n",
       "      <td>81.000000</td>\n",
       "    </tr>\n",
       "    <tr>\n",
       "      <th>3</th>\n",
       "      <td>Hasan</td>\n",
       "      <td>65</td>\n",
       "      <td>83</td>\n",
       "      <td>90</td>\n",
       "      <td>79.333333</td>\n",
       "    </tr>\n",
       "  </tbody>\n",
       "</table>\n",
       "</div>"
      ],
      "text/plain": [
       "  Talaba  Matematika  Adabiyot  Fizika  Umumiy o'rtacha\n",
       "0    Ali          78        67      70        71.666667\n",
       "1   Vali          85        45      90        73.333333\n",
       "2   Aziz          90        78      75        81.000000\n",
       "3  Hasan          65        83      90        79.333333"
      ]
     },
     "execution_count": 10,
     "metadata": {},
     "output_type": "execute_result"
    }
   ],
   "source": [
    "df['Umumiy o\\'rtacha'] = df[['Matematika', 'Adabiyot', 'Fizika']].mean(axis=1)\n",
    "df"
   ]
  },
  {
   "cell_type": "code",
   "execution_count": 11,
   "metadata": {},
   "outputs": [
    {
     "name": "stdout",
     "output_type": "stream",
     "text": [
      "  Talaba  Matematika  Adabiyot  Fizika  Umumiy o'rtacha\n",
      "1   Vali          85        45      90        73.333333\n",
      "2   Aziz          90        78      75        81.000000\n"
     ]
    }
   ],
   "source": [
    "matematika_80 = df[df['Matematika']>80]\n",
    "print(matematika_80)"
   ]
  },
  {
   "cell_type": "code",
   "execution_count": 12,
   "metadata": {},
   "outputs": [
    {
     "name": "stdout",
     "output_type": "stream",
     "text": [
      "Ali\n",
      "Vali\n"
     ]
    }
   ],
   "source": [
    "name_min_fizika = df['Talaba'][df['Fizika'].idxmin()]\n",
    "print(name_min_fizika)\n",
    "name_max_fizika = df['Talaba'][df['Fizika'].idxmax()]\n",
    "print(name_max_fizika)"
   ]
  },
  {
   "cell_type": "code",
   "execution_count": 13,
   "metadata": {},
   "outputs": [
    {
     "name": "stdout",
     "output_type": "stream",
     "text": [
      "Adabiyot      68.25\n",
      "Matematika    79.50\n",
      "Fizika        81.25\n",
      "dtype: float64\n"
     ]
    }
   ],
   "source": [
    "df_men = df[['Adabiyot', 'Matematika', 'Fizika']].mean()\n",
    "print(df_men)"
   ]
  },
  {
   "cell_type": "code",
   "execution_count": 14,
   "metadata": {},
   "outputs": [
    {
     "name": "stdout",
     "output_type": "stream",
     "text": [
      "          Kurs nomi  Talabalar soni  Narxi (USD)  Davomiyligi (oy)\n",
      "0            Python              50          150                 3\n",
      "1      Data Science              35          200                 4\n",
      "2   Web Development              40          180                 5\n",
      "3  Machine Learning              25          250                 6\n",
      "4                AI              30          300                 6\n"
     ]
    }
   ],
   "source": [
    "import pandas as pd\n",
    "\n",
    "# Ma'lumotlar to'plamini yaratish\n",
    "data = {\n",
    "    'Kurs nomi': ['Python', 'Data Science', 'Web Development', 'Machine Learning', 'AI'],\n",
    "    'Talabalar soni': [50, 35, 40, 25, 30],\n",
    "    'Narxi (USD)': [150, 200, 180, 250, 300],\n",
    "    'Davomiyligi (oy)': [3, 4, 5, 6, 6]\n",
    "}\n",
    "\n",
    "df = pd.DataFrame(data)\n",
    "print(df)"
   ]
  },
  {
   "cell_type": "code",
   "execution_count": 15,
   "metadata": {},
   "outputs": [
    {
     "name": "stdout",
     "output_type": "stream",
     "text": [
      "          Kurs nomi  Talabalar soni  Narxi (USD)  Davomiyligi (oy)  \\\n",
      "0            Python              50          150                 3   \n",
      "1      Data Science              35          200                 4   \n",
      "2   Web Development              40          180                 5   \n",
      "3  Machine Learning              25          250                 6   \n",
      "4                AI              30          300                 6   \n",
      "\n",
      "   Umumiy tushum  \n",
      "0           7500  \n",
      "1           7000  \n",
      "2           7200  \n",
      "3           6250  \n",
      "4           9000  \n"
     ]
    }
   ],
   "source": [
    "df['Umumiy tushum'] = df['Talabalar soni'] * df['Narxi (USD)']\n",
    "print(df)"
   ]
  },
  {
   "cell_type": "code",
   "execution_count": 16,
   "metadata": {},
   "outputs": [
    {
     "name": "stdout",
     "output_type": "stream",
     "text": [
      "3    Machine Learning\n",
      "4                  AI\n",
      "Name: Kurs nomi, dtype: object\n"
     ]
    }
   ],
   "source": [
    "kurs_200 = df[df['Narxi (USD)']>200]\n",
    "print(kurs_200['Kurs nomi'])"
   ]
  },
  {
   "cell_type": "code",
   "execution_count": 17,
   "metadata": {},
   "outputs": [
    {
     "name": "stdout",
     "output_type": "stream",
     "text": [
      "175.0\n"
     ]
    }
   ],
   "source": [
    "k_5oy = df[df['Davomiyligi (oy)'] < 5]['Narxi (USD)'].mean()\n",
    "print(k_5oy)"
   ]
  },
  {
   "cell_type": "code",
   "execution_count": 18,
   "metadata": {},
   "outputs": [
    {
     "name": "stdout",
     "output_type": "stream",
     "text": [
      "   Mahsulot nomi   Kategoriya  Narxi (USD)  Sotilgan soni\n",
      "0        Noutbuk  Elektronika          800             10\n",
      "1      Televizor  Elektronika          600              5\n",
      "2        Telefon  Elektronika          400             15\n",
      "3           Stol        Mebel          200              7\n",
      "4           Stul        Mebel          100             20\n",
      "5  Sovg'a qutisi    Aksessuar           50             30\n",
      "6           Soat    Aksessuar          150             12\n"
     ]
    }
   ],
   "source": [
    "import pandas as pd\n",
    "\n",
    "# Ma'lumotlar to'plamini yaratish\n",
    "data = {\n",
    "    'Mahsulot nomi': ['Noutbuk', 'Televizor', 'Telefon', 'Stol', 'Stul', 'Sovg\\'a qutisi', 'Soat'],\n",
    "    'Kategoriya': ['Elektronika', 'Elektronika', 'Elektronika', 'Mebel', 'Mebel', 'Aksessuar', 'Aksessuar'],\n",
    "    'Narxi (USD)': [800, 600, 400, 200, 100, 50, 150],\n",
    "    'Sotilgan soni': [10, 5, 15, 7, 20, 30, 12]\n",
    "}\n",
    "\n",
    "# DataFrame ni yaratish\n",
    "df = pd.DataFrame(data)\n",
    "\n",
    "# DataFrame ni ko'rsatish\n",
    "print(df)\n"
   ]
  },
  {
   "cell_type": "code",
   "execution_count": 19,
   "metadata": {},
   "outputs": [
    {
     "name": "stdout",
     "output_type": "stream",
     "text": [
      "   Mahsulot nomi   Kategoriya  Narxi (USD)  Sotilgan soni  Umumiy daromad\n",
      "0        Noutbuk  Elektronika          800             10            8000\n",
      "1      Televizor  Elektronika          600              5            3000\n",
      "2        Telefon  Elektronika          400             15            6000\n",
      "3           Stol        Mebel          200              7            1400\n",
      "4           Stul        Mebel          100             20            2000\n",
      "5  Sovg'a qutisi    Aksessuar           50             30            1500\n",
      "6           Soat    Aksessuar          150             12            1800\n"
     ]
    }
   ],
   "source": [
    "df['Umumiy daromad'] = df['Narxi (USD)'] * df['Sotilgan soni']\n",
    "print(df)"
   ]
  },
  {
   "cell_type": "code",
   "execution_count": 22,
   "metadata": {},
   "outputs": [
    {
     "name": "stdout",
     "output_type": "stream",
     "text": [
      "Kategoriya\n",
      "Aksessuar       3300\n",
      "Elektronika    17000\n",
      "Mebel           3400\n",
      "Name: Umumiy daromad, dtype: int64\n"
     ]
    }
   ],
   "source": [
    "cat_all = df.groupby('Kategoriya')['Umumiy daromad'].sum()\n",
    "print(cat_all)"
   ]
  },
  {
   "cell_type": "code",
   "execution_count": 24,
   "metadata": {},
   "outputs": [
    {
     "name": "stdout",
     "output_type": "stream",
     "text": [
      "Sovg'a qutisi\n",
      "Televizor\n"
     ]
    }
   ],
   "source": [
    "max_buy = df['Mahsulot nomi'][df['Sotilgan soni'].idxmax()]\n",
    "min_buy = df['Mahsulot nomi'][df['Sotilgan soni'].idxmin()]\n",
    "print(max_buy)\n",
    "print(min_buy)"
   ]
  },
  {
   "cell_type": "code",
   "execution_count": 25,
   "metadata": {},
   "outputs": [
    {
     "name": "stdout",
     "output_type": "stream",
     "text": [
      "17.25\n"
     ]
    }
   ],
   "source": [
    "under_300 = df[df['Narxi (USD)'] < 300 ]['Sotilgan soni'].mean()\n",
    "print(under_300)"
   ]
  },
  {
   "cell_type": "code",
   "execution_count": 26,
   "metadata": {},
   "outputs": [
    {
     "name": "stdout",
     "output_type": "stream",
     "text": [
      "600.0\n"
     ]
    }
   ],
   "source": [
    "mean_elektronika = df[df['Kategoriya'] == 'Elektronika']['Narxi (USD)'].mean()\n",
    "print(mean_elektronika)"
   ]
  },
  {
   "cell_type": "code",
   "execution_count": null,
   "metadata": {},
   "outputs": [],
   "source": []
  }
 ],
 "metadata": {
  "kernelspec": {
   "display_name": "Python 3",
   "language": "python",
   "name": "python3"
  },
  "language_info": {
   "codemirror_mode": {
    "name": "ipython",
    "version": 3
   },
   "file_extension": ".py",
   "mimetype": "text/x-python",
   "name": "python",
   "nbconvert_exporter": "python",
   "pygments_lexer": "ipython3",
   "version": "3.10.10"
  }
 },
 "nbformat": 4,
 "nbformat_minor": 2
}
